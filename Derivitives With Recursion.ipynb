{
 "cells": [
  {
   "cell_type": "markdown",
   "metadata": {},
   "source": [
    "# Derivitives With Recursion"
   ]
  },
  {
   "cell_type": "markdown",
   "metadata": {},
   "source": [
    "The process of finding the derivitive of a function uses recursion. For example take the function:\n",
    "\n",
    "\n",
    "$f(x) \\;= \\;3(sin(x)x^{2})^{2}$\n",
    "\n",
    "$f'(x) \\;=\\; 3*\\frac{d}{dx}[(sin(x)x^{2})^{2}] \\;=\\; 3*2*(sin(x)x^{2})*\\frac{d}{dx}[(sin(x)x^{2})]\\; =\\; 6*(sin(x)x^{2})*(sin(x)*\\frac{d}{dx}[x^{2}]+\\frac{d}{dx}[sin(x)]*x^{2})$\n",
    "\n",
    "$f'(x) \\;=\\; 6*(sin(x)x^{2})*(sin(x)*2x+cos(x)*x^{2})$\n",
    "\n",
    "For that derivitive you end up using the product rule within the chain rule so things can get very messy/complicated real quick. **For that reason it is important to not skip steps and use d/dx notation!**\n",
    "\n",
    "Through this notebook I will be demonstrating how to use recursion in python to find derivitives of complicated nested functions. \n",
    "\n",
    "As there are different ways to type equations (e.g. 2x, 2*x and 2(x)), I needed to figure a way to standardize the input. So instead of using direct operations, the user would have to input a string in the following form:\n",
    "\n",
    "input string = \"sum(product(2,x),sin(x))\"\n",
    "\n",
    "This would be equivalent to: $2x + sin(x)$\n",
    "\n",
    "The different operations that I chose were:\n",
    "1. sum(a,b)     => a + b\n",
    "2. product(a,b) => a * b\n",
    "3. quot(a,b)    => a / b\n",
    "4. exp(a,b)     => a ^ b\n",
    "5. sin(a) \n",
    "6. sin(b)\n",
    "\n",
    "There would have to be a way for the computer to recognize what function is being applied, specifically the outermost to provide a starting point. So if input = \"sum(product(2,x),sin(x))\", the computer knows that the outermost function is \"sum. To do this I implemented the following function:"
   ]
  },
  {
   "cell_type": "code",
   "execution_count": 343,
   "metadata": {},
   "outputs": [],
   "source": [
    "#if term is not a constant nor x then iterate through string until hit a \"(.The function is the characters before\n",
    "#                                                                                                          the \"(\"\n",
    "def funcType(term):\n",
    "    if(term.isnumeric()):\n",
    "        return \"constant\"\n",
    "    if(term==\"x\"):\n",
    "        return \"x\"\n",
    "    termChar = \"\"\n",
    "    ind = 0\n",
    "    while(termChar!=\"(\"):   \n",
    "        termChar = term[ind]\n",
    "        ind+=1  \n",
    "    return term[0:ind-1]"
   ]
  },
  {
   "cell_type": "code",
   "execution_count": 344,
   "metadata": {},
   "outputs": [
    {
     "data": {
      "text/plain": [
       "'sum'"
      ]
     },
     "execution_count": 344,
     "metadata": {},
     "output_type": "execute_result"
    }
   ],
   "source": [
    "funcType(\"sum(product(2,x),sin(x))\")"
   ]
  },
  {
   "cell_type": "markdown",
   "metadata": {},
   "source": [
    "Then the tough part is splitting the arguments. In the example above the arguments are 1.product(2,x) and 2.sin(x). The goal is to split this into a list. And you can't just split the string by commas because you would end up with 3 arguments. The code I used may be a little tricky to understand but it keeps track of the number of unmatched \"(\". If for example the number of open parenthesis were 2 then you would know that the curent term is nested. If the number of open parenthesis is 0 then there is no nesting going on. "
   ]
  },
  {
   "cell_type": "code",
   "execution_count": 345,
   "metadata": {},
   "outputs": [],
   "source": [
    "def getArgs(term):\n",
    "    if(funcType(term)!=\"constant\" and funcType(term)!=\"x\"):\n",
    "        term = term.replace(funcType(term),\"\",1)[1:-1]\n",
    "    splits = [-1]\n",
    "    isParenthesis = 0\n",
    "    for i,char in enumerate(term):\n",
    "        if(char==\"(\"):\n",
    "            isParenthesis += 1      # Gets the level\n",
    "        elif(char==\")\"):\n",
    "            isParenthesis -= 1\n",
    "        elif(char==\",\" and isParenthesis==0):\n",
    "            splits.append(i)\n",
    "    splits.append(len(term))\n",
    "    return [term[splits[i]+1:splits[i+1]].replace(\" \",\"\") for i in range(len(splits)-1)]"
   ]
  },
  {
   "cell_type": "code",
   "execution_count": 346,
   "metadata": {},
   "outputs": [
    {
     "data": {
      "text/plain": [
       "['product(2,x)', 'sin(x)']"
      ]
     },
     "execution_count": 346,
     "metadata": {},
     "output_type": "execute_result"
    }
   ],
   "source": [
    "getArgs(\"sum(product(2,x),sin(x))\")"
   ]
  },
  {
   "cell_type": "markdown",
   "metadata": {},
   "source": [
    "This allows the recursion to happen. der(a+b) = der(a) + der(b). Now those arguments can be plugged back into the derivitive function. So at this point der(product(2,x)) and der(sin(x)) will be evaluated then added together. "
   ]
  },
  {
   "cell_type": "markdown",
   "metadata": {},
   "source": [
    "Finally it is time to implement the derivitive function. This is where the recursion happens. Essentially is is just a whole bunch of if statements relative to the function being applied. So if a sum is plugged into the derivitive function, say sum(2,x), then it will return derivitive(2) + derivitive(x). Some better examples of the process are listed down below:\n",
    "\n",
    "\n",
    "\n",
    "der(\"product(3,x)\") => der(3)*x + 3*der(x) => 0 * x + 3 * 1\n",
    "\n",
    "der(\"sum(product(3,x),7)\") => der(product(3,x)) + der(7) => der(3)*x + 3*der(x) + 0 => 0 * x + 3 * 1 + 0\n",
    "\n",
    "der(\"exp(prod(3,x),4)\") => 4*(prod(3,x))^3 * der(prod(3,x)) => 4*(prod(3,x))^3 * ((3)*der(x)+der(3)*x)=> 4*(prod(3,x))^3 * (3 * 1 + 0 * x)\n",
    "\n",
    "One important note is that you can use the product rule with trivial products such as $f(x)=3x$. It's second nature to find the derivitive for this function as its just 3. But it is totally applicable to use the product rule here. \n",
    "$f'(x) = 3*1+0*x = 3$\n",
    "\n",
    "\n",
    "Anyways here is the code I used for the derivitive function:\n"
   ]
  },
  {
   "cell_type": "code",
   "execution_count": 347,
   "metadata": {},
   "outputs": [],
   "source": [
    "def der(term):\n",
    "    func = funcType(term)    #Outermost layer function\n",
    "    args = getArgs(term)     #Arguments within outermost function \n",
    "    if(func==\"cos\"):\n",
    "        return \"(-sin(\"+args[0]+\") * \" + der(args[0])+\")\"\n",
    "    \n",
    "    elif(func==\"sin\"):\n",
    "        return \"(cos(\"+args[0]+\") * \" + der(args[0])+\")\"\n",
    "    \n",
    "    elif(func==\"exp\"):\n",
    "        return \"((\"+args[1] + \"*(\" + args[0] + \")^\" + str(int(args[1])-1) + \")*(\" + der(args[0]) + \"))\"\n",
    "    \n",
    "    elif(func==\"sum\"):\n",
    "        return \"(\"+der(args[0])+\" + \"+der(args[1])+\")\"\n",
    "    \n",
    "    elif(func==\"prod\"):\n",
    "        return \"((\"+args[0] + \"*\" +der(args[1]) + \") + (\" +der(args[0]) + \"*\" +args[1]+\"))\"\n",
    "    \n",
    "    elif(func==\"quot\"):\n",
    "        return \"((\"+args[1] + \"*\" +der(args[0]) + \") - (\" + args[0] + \"*\" +der(args[1])+\"))/(\"+args[1]+\"^2)\"\n",
    "    \n",
    "    elif(term == \"x\"):\n",
    "        return \"1\"\n",
    "    \n",
    "    elif(term.isnumeric):\n",
    "        return \"0\"\n",
    "    "
   ]
  },
  {
   "cell_type": "markdown",
   "metadata": {},
   "source": [
    "Lets try it out..."
   ]
  },
  {
   "cell_type": "markdown",
   "metadata": {},
   "source": [
    "Let $f(x) = x+sin(x)$\n",
    "\n",
    "Then $f'(x) = \\frac{d}{dx}[x]+\\frac{d}{dx}[sin(x)] = 1 + cos(x)$"
   ]
  },
  {
   "cell_type": "code",
   "execution_count": 348,
   "metadata": {},
   "outputs": [
    {
     "data": {
      "text/plain": [
       "'(1 + (cos(x) * 1))'"
      ]
     },
     "execution_count": 348,
     "metadata": {},
     "output_type": "execute_result"
    }
   ],
   "source": [
    "der(\"sum(x,sin(x))\")        "
   ]
  },
  {
   "cell_type": "markdown",
   "metadata": {},
   "source": [
    "Let $f(x) = (3x^{2}+5)^{4}$\n",
    "\n",
    "Then $f'(x) = 4(3x^{2}+5)^{3}*\\frac{d}{dx}[3x^{2}]$\n",
    "\n",
    "$f'(x) = 4(3x^{2}+5)^{3}*6x$"
   ]
  },
  {
   "cell_type": "code",
   "execution_count": 349,
   "metadata": {},
   "outputs": [
    {
     "data": {
      "text/plain": [
       "'((4*(sum(prod(3,exp(x,2)),5))^3)*((((3*((2*(x)^1)*(1))) + (0*exp(x,2))) + 0)))'"
      ]
     },
     "execution_count": 349,
     "metadata": {},
     "output_type": "execute_result"
    }
   ],
   "source": [
    "der(\"exp(sum(prod(3,exp(x,2)),5),4)\")"
   ]
  },
  {
   "cell_type": "markdown",
   "metadata": {},
   "source": [
    "Notice how sometimes the raw string for functions are not evaluated? This can be fixed with the following code. Once again recursion is used:"
   ]
  },
  {
   "cell_type": "code",
   "execution_count": 350,
   "metadata": {},
   "outputs": [],
   "source": [
    "def prettify(term):\n",
    "    func = funcType(term)\n",
    "    args = getArgs(term) \n",
    "    if(func==\"sum\"):\n",
    "        return \"(\" + prettify(args[0]) + \" + \" + prettify(args[1]) + \")\"\n",
    "    if(func==\"prod\"):\n",
    "        return \"(\" + prettify(args[0]) + \"*\" + prettify(args[1]) + \")\"\n",
    "    if(func==\"quot\"):\n",
    "        return \"(\" + prettify(args[0]) + \"/\" + prettify(args[1]) + \")\"\n",
    "    if(func==\"exp\"):\n",
    "        return \"(\" + prettify(args[0]) + \"^\" + prettify(args[1]) + \")\"\n",
    "    if(func==\"cos\" or func == \"sin\"):\n",
    "        return func+\"(\"+prettify(args[0])+\")\"\n",
    "    else:\n",
    "        return term\n",
    "    "
   ]
  },
  {
   "cell_type": "code",
   "execution_count": 351,
   "metadata": {},
   "outputs": [],
   "source": [
    "def der(term):\n",
    "    func = funcType(term)    \n",
    "    args = getArgs(term)     \n",
    "    if(func==\"cos\"):\n",
    "        return \"(-sin(\"+prettify(args[0])+\") * \" + der(args[0])+\")\"\n",
    "    \n",
    "    elif(func==\"sin\"):\n",
    "        return \"(cos(\"+prettify(args[0])+\") * \" + der(args[0])+\")\"\n",
    "    \n",
    "    elif(func==\"exp\"):\n",
    "        return \"((\"+args[1] + \"*(\" + prettify(args[0]) + \")^\" + str(int(args[1])-1) + \")*(\" + der(args[0]) + \"))\"\n",
    "    \n",
    "    elif(func==\"sum\"):\n",
    "        return \"(\"+der(args[0])+\" + \"+der(args[1])+\")\"\n",
    "    \n",
    "    elif(func==\"prod\"):\n",
    "        return \"((\"+prettify(args[0]) + \"*\" +der(args[1]) + \") + (\" +der(args[0]) + \"*\" +prettify(args[1])+\"))\"\n",
    "    \n",
    "    elif(func==\"quot\"):\n",
    "        return \"((\"+prettify(args[1]) + \"*\" +der(args[0]) + \") - (\" + prettify(args[0]) + \"*\" +der(args[1])+\"))/(\"+args[1]+\"^2)\"\n",
    "    \n",
    "    elif(term == \"x\"):\n",
    "        return \"1\"\n",
    "    \n",
    "    elif(term.isnumeric):\n",
    "        return \"0\"\n",
    "    "
   ]
  },
  {
   "cell_type": "code",
   "execution_count": 352,
   "metadata": {},
   "outputs": [
    {
     "data": {
      "text/plain": [
       "'((4*(((3*(x^2)) + 5))^3)*((((3*((2*(x)^1)*(1))) + (0*(x^2))) + 0)))'"
      ]
     },
     "execution_count": 352,
     "metadata": {},
     "output_type": "execute_result"
    }
   ],
   "source": [
    "der(\"exp(sum(prod(3,exp(x,2)),5),4)\")"
   ]
  },
  {
   "cell_type": "markdown",
   "metadata": {},
   "source": [
    "Now that looks a lot better although not perfect. I could find some way to fully simplify equations but that would be a whole new problem to work on. Lets try a few more..."
   ]
  },
  {
   "cell_type": "markdown",
   "metadata": {},
   "source": [
    "Let $f(x) = \\frac{3x^{2}}{sin(x)}$\n",
    "\n",
    "Then $f'(x) = \\frac{sin(x)*\\frac{d}{dx}[3x^{2}] - 3x^{2}*\\frac{d}{dx}[sin(x)]}{sin(x)^{2}}$\n",
    "\n",
    "$f'(x) = \\frac{sin(x)*6x-3x^{2}*cos(x)}{sin(x)^2}$"
   ]
  },
  {
   "cell_type": "code",
   "execution_count": 353,
   "metadata": {},
   "outputs": [
    {
     "data": {
      "text/plain": [
       "'((sin(x)*((3*((2*(x)^1)*(1))) + (0*(x^2)))) - ((3*(x^2))*(cos(x) * 1)))/(sin(x)^2)'"
      ]
     },
     "execution_count": 353,
     "metadata": {},
     "output_type": "execute_result"
    }
   ],
   "source": [
    "der(\"quot(prod(3,exp(x,2)) , sin(x) )\")"
   ]
  },
  {
   "cell_type": "markdown",
   "metadata": {},
   "source": [
    "Let $f(x) = sin((x+3)*(cos(x)^{2}))$\n",
    "\n",
    "Then $f'(x) = cos((x+3)*(cos(x)^{2}))*\\frac{d}{dx}[(x+3)*(cos(x)^{2})] = cos((x+3)*(cos(x)^{2}))*((x+3)\\frac{d}{dx}[(cos(x)^{2})]+ \\frac{d}{dx}[(x+3)]*cos(x)^{2})     $\n",
    "\n",
    "\n",
    "$f'(x) = cos((x+3)*(cos(x)^{2}))*((x+3)2*(cos(x))*-sin(x) + 1*cos(x)^{2})$\n"
   ]
  },
  {
   "cell_type": "code",
   "execution_count": 354,
   "metadata": {},
   "outputs": [
    {
     "data": {
      "text/plain": [
       "'(cos(((x + 3)*(cos(x)^2))) * (((x + 3)*((2*(cos(x))^1)*((-sin(x) * 1)))) + ((1 + 0)*(cos(x)^2))))'"
      ]
     },
     "execution_count": 354,
     "metadata": {},
     "output_type": "execute_result"
    }
   ],
   "source": [
    "der(\"sin(prod(sum(x,3),exp(cos(x),2)))\")    "
   ]
  },
  {
   "cell_type": "markdown",
   "metadata": {},
   "source": [
    "So based on the few examples I tried, it looks like the derivitive function is behaving correctly! For those who have read through this, I hope you have been inspired to try to projects like this one. If there are any questions about anything just send me an email. Thank you for reading!"
   ]
  }
 ],
 "metadata": {
  "kernelspec": {
   "display_name": "Python 3",
   "language": "python",
   "name": "python3"
  },
  "language_info": {
   "codemirror_mode": {
    "name": "ipython",
    "version": 3
   },
   "file_extension": ".py",
   "mimetype": "text/x-python",
   "name": "python",
   "nbconvert_exporter": "python",
   "pygments_lexer": "ipython3",
   "version": "3.8.3"
  }
 },
 "nbformat": 4,
 "nbformat_minor": 4
}
