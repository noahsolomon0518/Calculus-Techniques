{
 "cells": [
  {
   "cell_type": "markdown",
   "metadata": {},
   "source": [
    "# Limit Exploration With Python\n",
    "\n",
    "As the majority of the calculus class are majoring in computer science, I though it would be a good idea to implement calculus techniques in python. This notebook goes over limits from a computer science point of view. To start I'll create a few functions to set everything up."
   ]
  },
  {
   "cell_type": "code",
   "execution_count": 2,
   "metadata": {},
   "outputs": [],
   "source": [
    "import math\n",
    "\n",
    "\n",
    "curFunction = \"0\"\n",
    "\n",
    "def setFunction(func):\n",
    "    if(type(func)!=str):\n",
    "        raise Exception(\"Function must be string\") \n",
    "    else:\n",
    "        global curFunction\n",
    "        curFunction = func\n",
    "\n",
    "def invokeFunction(xVal):\n",
    "    y = eval(curFunction.replace(\"x\",str(xVal)))\n",
    "    return y"
   ]
  },
  {
   "cell_type": "code",
   "execution_count": 3,
   "metadata": {},
   "outputs": [
    {
     "data": {
      "text/plain": [
       "8"
      ]
     },
     "execution_count": 3,
     "metadata": {},
     "output_type": "execute_result"
    }
   ],
   "source": [
    "setFunction(\"x+4\")\n",
    "\n",
    "invokeFunction(4)"
   ]
  },
  {
   "cell_type": "markdown",
   "metadata": {},
   "source": [
    "Now lets say you want to find the answer to the following problem:\n",
    "\n",
    "\n",
    "$\\lim_{x \\to 6}  (2x + 4)$"
   ]
  },
  {
   "cell_type": "markdown",
   "metadata": {},
   "source": [
    "You could just simply plug in 6 but let's think about this from a computer science stand point. You want to plug in values that are approaching 6. For example 6.001 or 6.0000001. The closer the better."
   ]
  },
  {
   "cell_type": "code",
   "execution_count": 49,
   "metadata": {},
   "outputs": [
    {
     "name": "stdout",
     "output_type": "stream",
     "text": [
      "x:7.0 ---- y:18.0\n",
      "x:6.1 ---- y:16.2\n",
      "x:6.01 ---- y:16.02\n",
      "x:6.001 ---- y:16.002000000000002\n",
      "x:6.0001 ---- y:16.0002\n",
      "x:6.00001 ---- y:16.00002\n",
      "x:6.000001 ---- y:16.000002000000002\n",
      "x:6.0000001 ---- y:16.000000200000002\n",
      "x:6.00000001 ---- y:16.00000002\n",
      "x:6.000000001 ---- y:16.000000002\n"
     ]
    }
   ],
   "source": [
    "setFunction(\"2*x+4\")\n",
    "c = 6\n",
    "for i in range(10):\n",
    "    print(\"x:\"+ str(c+1/(10)**i)+\" ---- y:\"+str(invokeFunction(c+1/(10)**i)))\n"
   ]
  },
  {
   "cell_type": "markdown",
   "metadata": {},
   "source": [
    "Although this perspective of computing a limit may seem trivial for such a simple problem, it is helpful when computing more difficult limits. \n",
    "\n",
    "$\\lim_{x \\to 6^+}  \\frac{2x + 4}{x-6}$\n",
    "\n",
    "Let's make a function that streamlines the process of approximating a limit"
   ]
  },
  {
   "cell_type": "code",
   "execution_count": 59,
   "metadata": {},
   "outputs": [],
   "source": [
    "def calcLim(c, fromPos):   \n",
    "#Note: fromPos = true when you are approximating the limit from the right and false from the left\n",
    "    for i in range(10):\n",
    "        if(fromPos):\n",
    "            print(\"x:\"+ str(c+1/(10)**i)+\" ---- y:\"+str(invokeFunction(c+1/(10)**i)))\n",
    "        else:\n",
    "            print(\"x:\"+ str(c-1/(10)**i)+\" ---- y:\"+str(invokeFunction(c-1/(10)**i)))"
   ]
  },
  {
   "cell_type": "code",
   "execution_count": 60,
   "metadata": {},
   "outputs": [
    {
     "name": "stdout",
     "output_type": "stream",
     "text": [
      "x:7.0 ---- y:18.0\n",
      "x:6.1 ---- y:16.2\n",
      "x:6.01 ---- y:16.02\n",
      "x:6.001 ---- y:16.002000000000002\n",
      "x:6.0001 ---- y:16.0002\n",
      "x:6.00001 ---- y:16.00002\n",
      "x:6.000001 ---- y:16.000002000000002\n",
      "x:6.0000001 ---- y:16.000000200000002\n",
      "x:6.00000001 ---- y:16.00000002\n",
      "x:6.000000001 ---- y:16.000000002\n"
     ]
    }
   ],
   "source": [
    "calcLim(6, True) #Works with previous problem"
   ]
  },
  {
   "cell_type": "code",
   "execution_count": 63,
   "metadata": {},
   "outputs": [
    {
     "name": "stdout",
     "output_type": "stream",
     "text": [
      "x:7.0 ---- y:18.0\n",
      "x:6.1 ---- y:162.00000000000057\n",
      "x:6.01 ---- y:1602.000000000034\n",
      "x:6.001 ---- y:16001.999999994658\n",
      "x:6.0001 ---- y:160002.0000003729\n",
      "x:6.00001 ---- y:1600002.0000605723\n",
      "x:6.000001 ---- y:16000001.997763554\n",
      "x:6.0000001 ---- y:160000001.5513099\n",
      "x:6.00000001 ---- y:1600000011.7239537\n",
      "x:6.000000001 ---- y:15999998678.154173\n"
     ]
    }
   ],
   "source": [
    "setFunction(\"(2*x+4)/(x-6)\")\n",
    "calcLim(6, True)"
   ]
  },
  {
   "cell_type": "markdown",
   "metadata": {},
   "source": [
    "So as you can see, this particular limit looks like it shoots off to infinity. Let's see what happens if you approximate this limit from the left."
   ]
  },
  {
   "cell_type": "code",
   "execution_count": 64,
   "metadata": {},
   "outputs": [
    {
     "name": "stdout",
     "output_type": "stream",
     "text": [
      "x:5.0 ---- y:-14.0\n",
      "x:5.9 ---- y:-158.00000000000057\n",
      "x:5.99 ---- y:-1598.000000000034\n",
      "x:5.999 ---- y:-15997.999999994658\n",
      "x:5.9999 ---- y:-159998.0000003729\n",
      "x:5.99999 ---- y:-1599998.0000605723\n",
      "x:5.999999 ---- y:-15999997.997763552\n",
      "x:5.9999999 ---- y:-159999997.55130988\n",
      "x:5.99999999 ---- y:-1600000007.7239537\n",
      "x:5.999999999 ---- y:-15999998674.154173\n"
     ]
    }
   ],
   "source": [
    "calcLim(6, False)"
   ]
  },
  {
   "cell_type": "markdown",
   "metadata": {},
   "source": [
    "Here it looks like it diverges to -infinity. Using your intiuition you can verify this with techniques that we talked about in class."
   ]
  },
  {
   "cell_type": "markdown",
   "metadata": {},
   "source": [
    "# Final Note\n",
    "\n",
    "This method of computing a limit is by far not fool proof. There are many equations that behave oddly at certain x values. One of these functions is cos(1/x) which infinitely osciallate back an forth near 0."
   ]
  }
 ],
 "metadata": {
  "kernelspec": {
   "display_name": "Python 3",
   "language": "python",
   "name": "python3"
  },
  "language_info": {
   "codemirror_mode": {
    "name": "ipython",
    "version": 3
   },
   "file_extension": ".py",
   "mimetype": "text/x-python",
   "name": "python",
   "nbconvert_exporter": "python",
   "pygments_lexer": "ipython3",
   "version": "3.8.3"
  }
 },
 "nbformat": 4,
 "nbformat_minor": 4
}
